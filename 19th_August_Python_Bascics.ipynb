{
 "cells": [
  {
   "cell_type": "code",
   "execution_count": null,
   "id": "c22d0a74-5aa5-435c-bc91-284cf90bafb5",
   "metadata": {},
   "outputs": [],
   "source": [
    "TOPIC:String Based Assignment Problem"
   ]
  },
  {
   "cell_type": "code",
   "execution_count": null,
   "id": "48afa43a-bbb3-4c65-88fa-46f5c6b430c8",
   "metadata": {},
   "outputs": [],
   "source": [
    "#Question 1.\n",
    "Declare two variables, `x` and `y`, and assign them integer values.\n",
    "Swap the values of these variables without using any temporary\n",
    "variable."
   ]
  },
  {
   "cell_type": "code",
   "execution_count": 2,
   "id": "adb3ee74-fce0-4cb7-973c-08ab3d7f7c33",
   "metadata": {},
   "outputs": [
    {
     "name": "stdout",
     "output_type": "stream",
     "text": [
      "Before Swapping: A = 12  B = 6\n",
      "After Swapping: A = 6  B = 12\n"
     ]
    }
   ],
   "source": [
    "# assign A,B with integer values\n",
    "A,B =12,6\n",
    "print(\"Before Swapping: A =\", A, \" B =\", B)\n",
    "# Code to swap 'A' and 'B'\n",
    "A = A + B  # A now becomes 18\n",
    "B = A - B  # B becomes 12\n",
    "A = A - B  # A becomes 6\n",
    "print(\"After Swapping: A =\", A, \" B =\", B)"
   ]
  },
  {
   "cell_type": "code",
   "execution_count": null,
   "id": "dde59339-5879-40c6-b840-3a742fb1ea2a",
   "metadata": {},
   "outputs": [],
   "source": [
    "#Question 2.\n",
    "Create a program that calculates the area of a rectangle. Take the\n",
    "length and width as inputs from the user and store them in variables.\n",
    "Calculate and display the area."
   ]
  },
  {
   "cell_type": "code",
   "execution_count": 3,
   "id": "8ccdaf3c-1842-4d77-8d37-d00758bc7527",
   "metadata": {},
   "outputs": [
    {
     "name": "stdin",
     "output_type": "stream",
     "text": [
      "Please Enter the Length of a Rectangle:  45\n",
      "Please Enter the Width of a Rectangle:  30\n"
     ]
    },
    {
     "name": "stdout",
     "output_type": "stream",
     "text": [
      "The Area of a Rectangle using 45.0 and 30.0  =  1350.0\n"
     ]
    }
   ],
   "source": [
    "length = float(input('Please Enter the Length of a Rectangle: '))\n",
    "width = float(input('Please Enter the Width of a Rectangle: '))\n",
    "\n",
    "# calculate the area\n",
    "area = length * width\n",
    "\n",
    "print(\"The Area of a Rectangle using\", length, \"and\", width, \" = \", area)\n"
   ]
  },
  {
   "cell_type": "code",
   "execution_count": null,
   "id": "c5582d01-0dee-4456-abc6-04cc4554d000",
   "metadata": {},
   "outputs": [],
   "source": [
    "#Question 3.\n",
    "Write a Python program that converts temperature from Celsius to\n",
    "Fahrenheit. Take the temperature in Celsius as input, store it in a\n",
    "variable, convert it to Fahrenheit, and display the result."
   ]
  },
  {
   "cell_type": "code",
   "execution_count": 4,
   "id": "4ace1d51-763c-4aaa-9d53-a5465a28eb9a",
   "metadata": {},
   "outputs": [
    {
     "name": "stdin",
     "output_type": "stream",
     "text": [
      "Temperature value in degree Celsius:  10\n"
     ]
    },
    {
     "name": "stdout",
     "output_type": "stream",
     "text": [
      "10.0 degree Celsius is equal to: 50.0 Fahrenheit\n"
     ]
    }
   ],
   "source": [
    "Temp_Celsius = float(input(\"Temperature value in degree Celsius: \" ))  \n",
    "# For Converting the temperature to degree Fahrenheit by using the above \n",
    "Temp_Fahrenhit = (Temp_Celsius * 9/5) + 32\n",
    "print (Temp_Celsius, \"degree Celsius is equal to:\" ,Temp_Fahrenhit, \"Fahrenheit\")"
   ]
  },
  {
   "cell_type": "code",
   "execution_count": null,
   "id": "6d22f97e-3152-4538-b322-c6d15e782b57",
   "metadata": {},
   "outputs": [],
   "source": [
    "TOPIC: String Based Questions"
   ]
  },
  {
   "cell_type": "code",
   "execution_count": null,
   "id": "53b4557d-3acc-4301-90f4-5c8ebfa56f03",
   "metadata": {},
   "outputs": [],
   "source": [
    "1.Write a Python program that takes a string as input and prints the\n",
    "length of the string."
   ]
  },
  {
   "cell_type": "code",
   "execution_count": 7,
   "id": "e358ed9f-1649-45bc-8b8e-ced2413fa4b7",
   "metadata": {},
   "outputs": [
    {
     "name": "stdin",
     "output_type": "stream",
     "text": [
      "Please Enter the string:  i am ram\n"
     ]
    },
    {
     "name": "stdout",
     "output_type": "stream",
     "text": [
      "8\n"
     ]
    }
   ],
   "source": [
    "str = input('Please Enter the string: ')\n",
    "Length_str=len(str)\n",
    "print(Length_str)"
   ]
  },
  {
   "cell_type": "code",
   "execution_count": null,
   "id": "a3d47fcc-a458-46b3-b718-945b226279a9",
   "metadata": {},
   "outputs": [],
   "source": [
    "2.Create a program that takes a sentence from the user and counts the\n",
    "number of vowels (a, e, i, o, u) in the string."
   ]
  },
  {
   "cell_type": "code",
   "execution_count": 9,
   "id": "e66f8081-3ca4-41cc-ae54-55098c33e70b",
   "metadata": {},
   "outputs": [
    {
     "name": "stdin",
     "output_type": "stream",
     "text": [
      "plaese enter your sentence:  my self Ramananda DAS\n"
     ]
    },
    {
     "name": "stdout",
     "output_type": "stream",
     "text": [
      "6\n"
     ]
    }
   ],
   "source": [
    "sentence = input(\"plaese enter your sentence: \")\n",
    "vowels = \"aeiouAEIOU\"\n",
    "count = sum(sentence.count(vowel) for vowel in vowels)\n",
    "print(count)"
   ]
  },
  {
   "cell_type": "code",
   "execution_count": null,
   "id": "74f0b8cc-13bb-4222-bdeb-b01892a25425",
   "metadata": {},
   "outputs": [],
   "source": [
    "3. Given a string, reverse the order of characters using string slicing and\n",
    "print the reversed string."
   ]
  },
  {
   "cell_type": "code",
   "execution_count": 12,
   "id": "cf6781a0-82c5-41b2-91f8-6c7279578964",
   "metadata": {},
   "outputs": [
    {
     "name": "stdout",
     "output_type": "stream",
     "text": [
      "original string: RAMANANDA\n",
      "The reverse string is: ADNANAMAR\n"
     ]
    }
   ],
   "source": [
    "str=\"RAMANANDA\"\n",
    "print(\"original string:\",str)\n",
    "reverse_str=(str[ : :-1])\n",
    "print(\"The reverse string is:\",reverse_str)"
   ]
  },
  {
   "cell_type": "code",
   "execution_count": null,
   "id": "5884a0ea-0c8c-4e45-bbd0-2ccd7753d718",
   "metadata": {},
   "outputs": [],
   "source": [
    "4. Write a program that takes a string as input and checks if it is a\n",
    "palindrome (reads the same forwards and backwards)."
   ]
  },
  {
   "cell_type": "code",
   "execution_count": 33,
   "id": "2b702cb1-3bea-427b-9e36-b13eb314fdff",
   "metadata": {},
   "outputs": [
    {
     "name": "stdin",
     "output_type": "stream",
     "text": [
      "plrase enter the string: sos\n"
     ]
    },
    {
     "name": "stdout",
     "output_type": "stream",
     "text": [
      "the reverse string is: sos\n",
      "Yes,this is palindrom\n"
     ]
    }
   ],
   "source": [
    "str=input(\"plrase enter the string:\" )\n",
    "reverse_str=(str[ : :-1])\n",
    "print(\"the reverse string is:\",reverse_str)\n",
    "if str==reverse_str:\n",
    "    print(\"Yes,this is palindrom\")\n",
    "else:\n",
    "    print(\"No, this is not palindrom\")"
   ]
  },
  {
   "cell_type": "code",
   "execution_count": null,
   "id": "e81036bb-aedc-4ea0-aa4d-7e7e23eacb85",
   "metadata": {},
   "outputs": [],
   "source": [
    "5. Create a program that takes a string as input and removes all the\n",
    "spaces from it. Print the modified string without spaces."
   ]
  },
  {
   "cell_type": "code",
   "execution_count": 1,
   "id": "57a3af0b-484e-4485-a039-ca97a887cffa",
   "metadata": {},
   "outputs": [
    {
     "name": "stdin",
     "output_type": "stream",
     "text": [
      "Please Enter the string:    ram a na nda\n"
     ]
    },
    {
     "name": "stdout",
     "output_type": "stream",
     "text": [
      "ramananda\n"
     ]
    }
   ],
   "source": [
    "str =input('Please Enter the string: ')\n",
    "modified_str=str.replace(\" \",\"\")\n",
    "print(modified_str)"
   ]
  },
  {
   "cell_type": "code",
   "execution_count": null,
   "id": "047ac135-e327-4cf8-b90e-55fc49559d60",
   "metadata": {},
   "outputs": [],
   "source": []
  }
 ],
 "metadata": {
  "kernelspec": {
   "display_name": "Python 3 (ipykernel)",
   "language": "python",
   "name": "python3"
  },
  "language_info": {
   "codemirror_mode": {
    "name": "ipython",
    "version": 3
   },
   "file_extension": ".py",
   "mimetype": "text/x-python",
   "name": "python",
   "nbconvert_exporter": "python",
   "pygments_lexer": "ipython3",
   "version": "3.10.8"
  }
 },
 "nbformat": 4,
 "nbformat_minor": 5
}
